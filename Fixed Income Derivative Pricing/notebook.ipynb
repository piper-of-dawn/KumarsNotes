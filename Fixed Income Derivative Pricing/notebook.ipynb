{
 "cells": [
  {
   "attachments": {},
   "cell_type": "markdown",
   "metadata": {},
   "source": [
    "# Jargons\n",
    "- LIBOR Rate: The London Interbank Offered Rate (LIBOR) is the interest rate at which banks offer to lend funds (wholesale money) to one another in the international interbank market. This index is typically used for short-term floating-rate loans, such as adjustable rate mortgages (ARM).\n",
    "- Short Rate: In the context of fixed income securities, the term \"short rate\" refers to the instantaneous interest rate applicable to a very short-term investment or borrowing. It represents the interest rate at any given point in time for a specific time period, usually less than one year. The short rate is often used in the construction of interest rate models, such as the Heath-Jarrow-Morton (HJM) model or the Vasicek model, which aim to describe the dynamics of interest rates over time. These models use the short rate as a building block to generate interest rate paths or to price fixed income derivatives.It's worth noting that the short rate is a theoretical concept and not directly observable in the market. It represents an idealized interest rate that is assumed to change continuously over time, reflecting the instantaneous borrowing or lending rates for infinitesimally small time intervals. In practice, interest rates are typically quoted for specific maturities, such as 1-month, 3-month, 1-year, etc., rather than as a continuous short rate. However, the short rate concept is useful for understanding and modeling the dynamics of interest rates in the context of fixed income pricing and risk management."
   ]
  },
  {
   "attachments": {},
   "cell_type": "markdown",
   "metadata": {},
   "source": [
    "# Binomial Models for the Short Rate\n",
    "\n",
    "## Notations\n",
    "\n",
    "- $s_t$: Spot rate at time $t$\n",
    "- $r_t$: Short rate at time $t$"
   ]
  },
  {
   "cell_type": "code",
   "execution_count": null,
   "metadata": {},
   "outputs": [],
   "source": []
  }
 ],
 "metadata": {
  "kernelspec": {
   "display_name": "Python 3",
   "language": "python",
   "name": "python3"
  },
  "language_info": {
   "name": "python",
   "version": "3.11.3"
  },
  "orig_nbformat": 4
 },
 "nbformat": 4,
 "nbformat_minor": 2
}
