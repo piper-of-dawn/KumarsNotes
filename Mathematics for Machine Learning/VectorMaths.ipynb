{
 "cells": [
  {
   "attachments": {},
   "cell_type": "markdown",
   "metadata": {},
   "source": [
    "# Norm of the vector\n",
    "\n",
    "$$ |r| = a^2 + b^2 $$"
   ]
  },
  {
   "attachments": {},
   "cell_type": "markdown",
   "metadata": {},
   "source": [
    "# Dot Product of the vector\n",
    "\n",
    "It is the sum of the corresponding components of a vector. \n",
    "\n",
    "- The dot product is commutative:\n",
    "$$ r . s = s . r $$\n",
    "- The dot product is distributive.\n",
    "$$ r.(s+t) = r.s + r.t $$\n",
    "- The dot product is associative.\n",
    "$$ r.(as) = a.(rs) $$\n",
    "\n",
    "## Geometric interpretation of the dot product of the vector\n",
    "\n",
    "By the cosine rule:\n",
    "$$ c^2 = a^2 + b^2 + 2ab \\cos (\\theta)$$\n",
    "\n",
    "If two vectors are orthogonal, then the angle between them is 90 degrees and the cosine of 90 degrees is 0. Therefore, the dot product of two orthogonal vectors is 0. If two vectors are in opposite directions, then the angle between them is 180 degrees and the cosine of 180 degrees is -1. Therefore, the dot product of two vectors in opposite directions is -1. If two vectors are in the same direction, then the angle between them is 0 degrees and the cosine of 0 degrees is 1. Therefore, the dot product of two vectors in the same direction is 1.\n",
    "\n"
   ]
  },
  {
   "cell_type": "markdown",
   "metadata": {},
   "source": []
  }
 ],
 "metadata": {
  "language_info": {
   "name": "python"
  },
  "orig_nbformat": 4
 },
 "nbformat": 4,
 "nbformat_minor": 2
}
