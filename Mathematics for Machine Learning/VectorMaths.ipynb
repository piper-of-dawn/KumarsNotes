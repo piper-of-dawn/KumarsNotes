{
 "cells": [
  {
   "attachments": {},
   "cell_type": "markdown",
   "metadata": {},
   "source": [
    "# Norm of the vector\n",
    "\n",
    "$$ |r| = a^2 + b^2 $$"
   ]
  },
  {
   "attachments": {},
   "cell_type": "markdown",
   "metadata": {},
   "source": [
    "# Dot Product of the vector\n",
    "\n",
    "It is the sum of the corresponding components of a vector. \n",
    "\n",
    "- The dot product is commutative:\n",
    "$$ r . s = s . r $$\n",
    "- The dot product is distributive.\n",
    "$$ r.(s+t) = r.s + r.t $$\n",
    "- The dot product is associative.\n",
    "$$ r.(as) = a.(rs) $$\n",
    "\n",
    "## Geometric interpretation of the dot product of the vector\n",
    "\n",
    "By the cosine rule:\n",
    "$$ c^2 = a^2 + b^2 + 2ab \\cos (\\theta)$$\n",
    "\n",
    "If two vectors are orthogonal, then the angle between them is 90 degrees and the cosine of 90 degrees is 0. Therefore, the dot product of two orthogonal vectors is 0. If two vectors are in opposite directions, then the angle between them is 180 degrees and the cosine of 180 degrees is -1. Therefore, the dot product of two vectors in opposite directions is -1. If two vectors are in the same direction, then the angle between them is 0 degrees and the cosine of 0 degrees is 1. Therefore, the dot product of two vectors in the same direction is 1.\n",
    "\n"
   ]
  },
  {
   "attachments": {},
   "cell_type": "markdown",
   "metadata": {},
   "source": [
    "# Eigen Values and Eigen Vectors"
   ]
  },
  {
   "cell_type": "code",
   "execution_count": 79,
   "metadata": {},
   "outputs": [],
   "source": [
    "import numpy as np\n",
    "import dataclasses\n",
    "from rich import print\n",
    "from rich.table import Table\n",
    "@dataclasses.dataclass\n",
    "class Eigen ():  \n",
    "    matrix: np.ndarray\n",
    "    \n",
    "    @property\n",
    "    def shape (self) -> tuple:\n",
    "        return self.matrix.shape\n",
    "    \n",
    "    @property\n",
    "    def eigenvalues (self) -> np.ndarray:\n",
    "        return np.linalg.eigvals(self.matrix)\n",
    "    \n",
    "    @property\n",
    "    def characteristic_equation(self):\n",
    "      get_coefficients = lambda eigenvalues: np.flip(np.poly(eigenvalues))\n",
    "      equation = \"\"\n",
    "      polynomial_coefficients = get_coefficients(self.eigenvalues)\n",
    "      degree_of_polynomial = len(polynomial_coefficients) - 1\n",
    "      for i, coeff in enumerate(polynomial_coefficients):\n",
    "        if i == degree_of_polynomial:\n",
    "            equation += f\"{coeff} = 0\"\n",
    "        else:\n",
    "            equation += f\"{round(coeff,2)} × λ^{degree_of_polynomial-i} + \"\n",
    "      return equation\n",
    "  \n",
    "    @property\n",
    "    def formattedResult (self) -> str:\n",
    "        table = Table(title=\"Eigenvalues\")\n",
    "        table.add_column(\"Eigenvalue\", justify=\"right\")\n",
    "\n",
    "        for eigenvalue in self.eigenvalues:\n",
    "            table.add_row(str(np.round(eigenvalue,2)))\n",
    "        print(table)\n",
    "        print(f\"Characterstic Equation: {self.characteristic_equation}\")\n",
    "      \n",
    "      \n",
    "    "
   ]
  },
  {
   "cell_type": "code",
   "execution_count": 80,
   "metadata": {},
   "outputs": [
    {
     "data": {
      "text/html": [
       "<pre style=\"white-space:pre;overflow-x:auto;line-height:normal;font-family:Menlo,'DejaVu Sans Mono',consolas,'Courier New',monospace\"><span style=\"font-style: italic\">  Eigenvalues   </span>\n",
       "┏━━━━━━━━━━━━━━┓\n",
       "┃<span style=\"font-weight: bold\">   Eigenvalue </span>┃\n",
       "┡━━━━━━━━━━━━━━┩\n",
       "│ (-0.5+0.87j) │\n",
       "│ (-0.5-0.87j) │\n",
       "└──────────────┘\n",
       "</pre>\n"
      ],
      "text/plain": [
       "\u001b[3m  Eigenvalues   \u001b[0m\n",
       "┏━━━━━━━━━━━━━━┓\n",
       "┃\u001b[1m \u001b[0m\u001b[1m  Eigenvalue\u001b[0m\u001b[1m \u001b[0m┃\n",
       "┡━━━━━━━━━━━━━━┩\n",
       "│ (-0.5+0.87j) │\n",
       "│ (-0.5-0.87j) │\n",
       "└──────────────┘\n"
      ]
     },
     "metadata": {},
     "output_type": "display_data"
    },
    {
     "data": {
      "text/html": [
       "<pre style=\"white-space:pre;overflow-x:auto;line-height:normal;font-family:Menlo,'DejaVu Sans Mono',consolas,'Courier New',monospace\">Characterstic Equation: <span style=\"color: #008080; text-decoration-color: #008080; font-weight: bold\">1.0</span> × λ^<span style=\"color: #008080; text-decoration-color: #008080; font-weight: bold\">2</span> + <span style=\"color: #008080; text-decoration-color: #008080; font-weight: bold\">1.0</span> × λ^<span style=\"color: #008080; text-decoration-color: #008080; font-weight: bold\">1</span> + <span style=\"color: #008080; text-decoration-color: #008080; font-weight: bold\">1.0</span> = <span style=\"color: #008080; text-decoration-color: #008080; font-weight: bold\">0</span>\n",
       "</pre>\n"
      ],
      "text/plain": [
       "Characterstic Equation: \u001b[1;36m1.0\u001b[0m × λ^\u001b[1;36m2\u001b[0m + \u001b[1;36m1.0\u001b[0m × λ^\u001b[1;36m1\u001b[0m + \u001b[1;36m1.0\u001b[0m = \u001b[1;36m0\u001b[0m\n"
      ]
     },
     "metadata": {},
     "output_type": "display_data"
    }
   ],
   "source": [
    "matrix = np.array([[-2, -3], [1, 1]])\n",
    "e = Eigen(matrix)\n",
    "e.formattedResult\n"
   ]
  },
  {
   "cell_type": "code",
   "execution_count": null,
   "metadata": {},
   "outputs": [],
   "source": []
  }
 ],
 "metadata": {
  "kernelspec": {
   "display_name": "Python 3",
   "language": "python",
   "name": "python3"
  },
  "language_info": {
   "codemirror_mode": {
    "name": "ipython",
    "version": 3
   },
   "file_extension": ".py",
   "mimetype": "text/x-python",
   "name": "python",
   "nbconvert_exporter": "python",
   "pygments_lexer": "ipython3",
   "version": "3.11.3"
  },
  "orig_nbformat": 4
 },
 "nbformat": 4,
 "nbformat_minor": 2
}
